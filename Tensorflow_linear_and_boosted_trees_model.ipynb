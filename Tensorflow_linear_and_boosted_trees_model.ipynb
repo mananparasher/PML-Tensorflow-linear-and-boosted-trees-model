{
  "nbformat": 4,
  "nbformat_minor": 0,
  "metadata": {
    "colab": {
      "name": "Tensorflow linear and boosted trees model.ipynb",
      "provenance": [],
      "collapsed_sections": []
    },
    "kernelspec": {
      "name": "python3",
      "display_name": "Python 3"
    }
  },
  "cells": [
    {
      "cell_type": "code",
      "metadata": {
        "id": "N7cADFlASIn2",
        "colab_type": "code",
        "colab": {}
      },
      "source": [
        "import pathlib\n",
        "import numpy as np\n",
        "import pandas as pd\n",
        "import tensorflow as tf\n",
        "tf.random.set_seed(123)\n",
        "import keras\n",
        "from sklearn.model_selection import train_test_split"
      ],
      "execution_count": 0,
      "outputs": []
    },
    {
      "cell_type": "code",
      "metadata": {
        "id": "JyoO-iE3BI6s",
        "colab_type": "code",
        "outputId": "803993e5-376e-439d-e4ad-fcd3597f87b7",
        "colab": {
          "base_uri": "https://localhost:8080/",
          "height": 34
        }
      },
      "source": [
        "path = keras.utils.get_file(\"abalone.data\", \"https://archive.ics.uci.edu/ml/machine-learning-databases/abalone/abalone.data\")\n",
        "path"
      ],
      "execution_count": 43,
      "outputs": [
        {
          "output_type": "execute_result",
          "data": {
            "text/plain": [
              "'/root/.keras/datasets/abalone.data'"
            ]
          },
          "metadata": {
            "tags": []
          },
          "execution_count": 43
        }
      ]
    },
    {
      "cell_type": "code",
      "metadata": {
        "id": "cXW6OlIfBWYV",
        "colab_type": "code",
        "outputId": "06b1fb35-e8e2-4ab2-a771-85f06b0b4d8b",
        "colab": {
          "base_uri": "https://localhost:8080/",
          "height": 204
        }
      },
      "source": [
        "dataset = pd.read_csv(path, header=None,names=['Sex','Length','Diameter','Height','Whole_weight','Shucked_weight','Viscera_weight','Shell_weight','Rings']\n",
        "                      ,na_values = \"?\", comment='\\t',\n",
        "                      sep=\",\", skipinitialspace=True)\n",
        "dataset.head(5)"
      ],
      "execution_count": 139,
      "outputs": [
        {
          "output_type": "execute_result",
          "data": {
            "text/html": [
              "<div>\n",
              "<style scoped>\n",
              "    .dataframe tbody tr th:only-of-type {\n",
              "        vertical-align: middle;\n",
              "    }\n",
              "\n",
              "    .dataframe tbody tr th {\n",
              "        vertical-align: top;\n",
              "    }\n",
              "\n",
              "    .dataframe thead th {\n",
              "        text-align: right;\n",
              "    }\n",
              "</style>\n",
              "<table border=\"1\" class=\"dataframe\">\n",
              "  <thead>\n",
              "    <tr style=\"text-align: right;\">\n",
              "      <th></th>\n",
              "      <th>Sex</th>\n",
              "      <th>Length</th>\n",
              "      <th>Diameter</th>\n",
              "      <th>Height</th>\n",
              "      <th>Whole_weight</th>\n",
              "      <th>Shucked_weight</th>\n",
              "      <th>Viscera_weight</th>\n",
              "      <th>Shell_weight</th>\n",
              "      <th>Rings</th>\n",
              "    </tr>\n",
              "  </thead>\n",
              "  <tbody>\n",
              "    <tr>\n",
              "      <th>0</th>\n",
              "      <td>M</td>\n",
              "      <td>0.455</td>\n",
              "      <td>0.365</td>\n",
              "      <td>0.095</td>\n",
              "      <td>0.5140</td>\n",
              "      <td>0.2245</td>\n",
              "      <td>0.1010</td>\n",
              "      <td>0.150</td>\n",
              "      <td>15</td>\n",
              "    </tr>\n",
              "    <tr>\n",
              "      <th>1</th>\n",
              "      <td>M</td>\n",
              "      <td>0.350</td>\n",
              "      <td>0.265</td>\n",
              "      <td>0.090</td>\n",
              "      <td>0.2255</td>\n",
              "      <td>0.0995</td>\n",
              "      <td>0.0485</td>\n",
              "      <td>0.070</td>\n",
              "      <td>7</td>\n",
              "    </tr>\n",
              "    <tr>\n",
              "      <th>2</th>\n",
              "      <td>F</td>\n",
              "      <td>0.530</td>\n",
              "      <td>0.420</td>\n",
              "      <td>0.135</td>\n",
              "      <td>0.6770</td>\n",
              "      <td>0.2565</td>\n",
              "      <td>0.1415</td>\n",
              "      <td>0.210</td>\n",
              "      <td>9</td>\n",
              "    </tr>\n",
              "    <tr>\n",
              "      <th>3</th>\n",
              "      <td>M</td>\n",
              "      <td>0.440</td>\n",
              "      <td>0.365</td>\n",
              "      <td>0.125</td>\n",
              "      <td>0.5160</td>\n",
              "      <td>0.2155</td>\n",
              "      <td>0.1140</td>\n",
              "      <td>0.155</td>\n",
              "      <td>10</td>\n",
              "    </tr>\n",
              "    <tr>\n",
              "      <th>4</th>\n",
              "      <td>I</td>\n",
              "      <td>0.330</td>\n",
              "      <td>0.255</td>\n",
              "      <td>0.080</td>\n",
              "      <td>0.2050</td>\n",
              "      <td>0.0895</td>\n",
              "      <td>0.0395</td>\n",
              "      <td>0.055</td>\n",
              "      <td>7</td>\n",
              "    </tr>\n",
              "  </tbody>\n",
              "</table>\n",
              "</div>"
            ],
            "text/plain": [
              "  Sex  Length  Diameter  ...  Viscera_weight  Shell_weight  Rings\n",
              "0   M   0.455     0.365  ...          0.1010         0.150     15\n",
              "1   M   0.350     0.265  ...          0.0485         0.070      7\n",
              "2   F   0.530     0.420  ...          0.1415         0.210      9\n",
              "3   M   0.440     0.365  ...          0.1140         0.155     10\n",
              "4   I   0.330     0.255  ...          0.0395         0.055      7\n",
              "\n",
              "[5 rows x 9 columns]"
            ]
          },
          "metadata": {
            "tags": []
          },
          "execution_count": 139
        }
      ]
    },
    {
      "cell_type": "code",
      "metadata": {
        "id": "HqAVkKsqwWhM",
        "colab_type": "code",
        "colab": {}
      },
      "source": [
        "dataset['Rings']=dataset['Rings'].apply(lambda x: 0 if x<=14 else 1)\n",
        "y=dataset.pop('Rings')\n",
        "X=dataset.copy()"
      ],
      "execution_count": 0,
      "outputs": []
    },
    {
      "cell_type": "code",
      "metadata": {
        "id": "rmGqcZl55bmo",
        "colab_type": "code",
        "colab": {}
      },
      "source": [
        "X_train, X_test, y_train, y_test = train_test_split(X, y, test_size=0.1, random_state=42)"
      ],
      "execution_count": 0,
      "outputs": []
    },
    {
      "cell_type": "code",
      "metadata": {
        "id": "1YwZuyRG1hgY",
        "colab_type": "code",
        "colab": {
          "base_uri": "https://localhost:8080/",
          "height": 153
        },
        "outputId": "300dd318-e982-4673-be0a-c6426c9280de"
      },
      "source": [
        "numerical_columns=['Length','Diameter','Height','Whole_weight','Shucked_weight','Viscera_weight','Shell_weight']\n",
        "categorical_columns=['Sex']\n",
        "\n",
        "feature_columns=[]\n",
        "\n",
        "for value in numerical_columns:\n",
        "  feature_columns.append(tf.feature_column.numeric_column(value,dtype=tf.float32))\n",
        "\n",
        "for value in categorical_columns:\n",
        "  unique_values=dataset[value].unique()\n",
        "  feature_columns.append(tf.feature_column.categorical_column_with_vocabulary_list(value,unique_values))\n",
        "\n",
        "feature_columns"
      ],
      "execution_count": 142,
      "outputs": [
        {
          "output_type": "execute_result",
          "data": {
            "text/plain": [
              "[NumericColumn(key='Length', shape=(1,), default_value=None, dtype=tf.float32, normalizer_fn=None),\n",
              " NumericColumn(key='Diameter', shape=(1,), default_value=None, dtype=tf.float32, normalizer_fn=None),\n",
              " NumericColumn(key='Height', shape=(1,), default_value=None, dtype=tf.float32, normalizer_fn=None),\n",
              " NumericColumn(key='Whole_weight', shape=(1,), default_value=None, dtype=tf.float32, normalizer_fn=None),\n",
              " NumericColumn(key='Shucked_weight', shape=(1,), default_value=None, dtype=tf.float32, normalizer_fn=None),\n",
              " NumericColumn(key='Viscera_weight', shape=(1,), default_value=None, dtype=tf.float32, normalizer_fn=None),\n",
              " NumericColumn(key='Shell_weight', shape=(1,), default_value=None, dtype=tf.float32, normalizer_fn=None),\n",
              " VocabularyListCategoricalColumn(key='Sex', vocabulary_list=('M', 'F', 'I'), dtype=tf.string, default_value=-1, num_oov_buckets=0)]"
            ]
          },
          "metadata": {
            "tags": []
          },
          "execution_count": 142
        }
      ]
    },
    {
      "cell_type": "code",
      "metadata": {
        "id": "fAUbdTCW2UHF",
        "colab_type": "code",
        "colab": {}
      },
      "source": [
        "def dataframe_to_tf(X,y,shuffle=True):\n",
        "  def input_function():\n",
        "    dataset=tf.data.Dataset.from_tensor_slices((dict(X),y))\n",
        "    dataset=dataset.shuffle(1000)\n",
        "    dataset=dataset.batch(32).repeat(10)\n",
        "    return dataset\n",
        "  return input_function"
      ],
      "execution_count": 0,
      "outputs": []
    },
    {
      "cell_type": "code",
      "metadata": {
        "id": "FPLVlBe14JjF",
        "colab_type": "code",
        "colab": {}
      },
      "source": [
        "training_data=dataframe_to_tf(X_train,y_train)\n",
        "validation_data=dataframe_to_tf(X_test,y_test)"
      ],
      "execution_count": 0,
      "outputs": []
    },
    {
      "cell_type": "code",
      "metadata": {
        "id": "qxUTbS8l4juf",
        "colab_type": "code",
        "colab": {
          "base_uri": "https://localhost:8080/",
          "height": 68
        },
        "outputId": "76075a7d-a468-4656-eb58-bcd0522e778b"
      },
      "source": [
        "for x,y in dataframe_to_tf(X_train,y_train)().take(1):\n",
        "  print('A batch of Length:', x['Length'].numpy())"
      ],
      "execution_count": 145,
      "outputs": [
        {
          "output_type": "stream",
          "text": [
            "A batch of Length: [0.59  0.56  0.29  0.505 0.515 0.54  0.675 0.54  0.495 0.52  0.33  0.64\n",
            " 0.445 0.655 0.705 0.465 0.39  0.63  0.615 0.395 0.6   0.5   0.415 0.63\n",
            " 0.665 0.21  0.55  0.245 0.415 0.685 0.46  0.615]\n"
          ],
          "name": "stdout"
        }
      ]
    },
    {
      "cell_type": "code",
      "metadata": {
        "id": "ZFqgkeE0nt5N",
        "colab_type": "code",
        "colab": {
          "base_uri": "https://localhost:8080/",
          "height": 1000
        },
        "outputId": "703e10a0-30d0-4b19-bd92-7b022b55ab5c"
      },
      "source": [
        "linear_classifier = tf.estimator.LinearClassifier(feature_columns=feature_columns)\n",
        "linear_classifier.train(training_data)\n",
        "classifier_result = linear_classifier.evaluate(validation_data)\n",
        "print(pd.Series(classifier_result))"
      ],
      "execution_count": 146,
      "outputs": [
        {
          "output_type": "stream",
          "text": [
            "INFO:tensorflow:Using default config.\n",
            "WARNING:tensorflow:Using temporary folder as model directory: /tmp/tmp9hw_71qk\n",
            "INFO:tensorflow:Using config: {'_model_dir': '/tmp/tmp9hw_71qk', '_tf_random_seed': None, '_save_summary_steps': 100, '_save_checkpoints_steps': None, '_save_checkpoints_secs': 600, '_session_config': allow_soft_placement: true\n",
            "graph_options {\n",
            "  rewrite_options {\n",
            "    meta_optimizer_iterations: ONE\n",
            "  }\n",
            "}\n",
            ", '_keep_checkpoint_max': 5, '_keep_checkpoint_every_n_hours': 10000, '_log_step_count_steps': 100, '_train_distribute': None, '_device_fn': None, '_protocol': None, '_eval_distribute': None, '_experimental_distribute': None, '_experimental_max_worker_delay_secs': None, '_session_creation_timeout_secs': 7200, '_service': None, '_cluster_spec': ClusterSpec({}), '_task_type': 'worker', '_task_id': 0, '_global_id_in_cluster': 0, '_master': '', '_evaluation_master': '', '_is_chief': True, '_num_ps_replicas': 0, '_num_worker_replicas': 1}\n",
            "INFO:tensorflow:Calling model_fn.\n",
            "WARNING:tensorflow:Layer linear/linear_model is casting an input tensor from dtype float64 to the layer's dtype of float32, which is new behavior in TensorFlow 2.  The layer has dtype float32 because it's dtype defaults to floatx.\n",
            "\n",
            "If you intended to run this layer in float32, you can safely ignore this warning. If in doubt, this warning is likely only an issue if you are porting a TensorFlow 1.X model to TensorFlow 2.\n",
            "\n",
            "To change all layers to have dtype float64 by default, call `tf.keras.backend.set_floatx('float64')`. To change just this layer, pass dtype='float64' to the layer constructor. If you are the author of this layer, you can disable autocasting by passing autocast=False to the base Layer constructor.\n",
            "\n",
            "INFO:tensorflow:Done calling model_fn.\n",
            "INFO:tensorflow:Create CheckpointSaverHook.\n",
            "INFO:tensorflow:Graph was finalized.\n",
            "INFO:tensorflow:Running local_init_op.\n",
            "INFO:tensorflow:Done running local_init_op.\n",
            "INFO:tensorflow:Calling checkpoint listeners before saving checkpoint 0...\n",
            "INFO:tensorflow:Saving checkpoints for 0 into /tmp/tmp9hw_71qk/model.ckpt.\n",
            "INFO:tensorflow:Calling checkpoint listeners after saving checkpoint 0...\n",
            "INFO:tensorflow:loss = 0.6931472, step = 0\n",
            "INFO:tensorflow:global_step/sec: 486.643\n",
            "INFO:tensorflow:loss = 0.3800776, step = 100 (0.209 sec)\n",
            "INFO:tensorflow:global_step/sec: 837.534\n",
            "INFO:tensorflow:loss = 0.1503997, step = 200 (0.122 sec)\n",
            "INFO:tensorflow:global_step/sec: 766.729\n",
            "INFO:tensorflow:loss = 0.22346446, step = 300 (0.125 sec)\n",
            "INFO:tensorflow:global_step/sec: 858.873\n",
            "INFO:tensorflow:loss = 0.41640544, step = 400 (0.117 sec)\n",
            "INFO:tensorflow:global_step/sec: 855.15\n",
            "INFO:tensorflow:loss = 0.14455056, step = 500 (0.119 sec)\n",
            "INFO:tensorflow:global_step/sec: 810.37\n",
            "INFO:tensorflow:loss = 0.20990442, step = 600 (0.124 sec)\n",
            "INFO:tensorflow:global_step/sec: 869.3\n",
            "INFO:tensorflow:loss = 0.49005973, step = 700 (0.115 sec)\n",
            "INFO:tensorflow:global_step/sec: 745.049\n",
            "INFO:tensorflow:loss = 0.2716192, step = 800 (0.134 sec)\n",
            "INFO:tensorflow:global_step/sec: 823.701\n",
            "INFO:tensorflow:loss = 0.29456213, step = 900 (0.119 sec)\n",
            "INFO:tensorflow:global_step/sec: 840.065\n",
            "INFO:tensorflow:loss = 0.21791875, step = 1000 (0.121 sec)\n",
            "INFO:tensorflow:global_step/sec: 792.915\n",
            "INFO:tensorflow:loss = 0.42620575, step = 1100 (0.124 sec)\n",
            "INFO:tensorflow:Calling checkpoint listeners before saving checkpoint 1180...\n",
            "INFO:tensorflow:Saving checkpoints for 1180 into /tmp/tmp9hw_71qk/model.ckpt.\n",
            "INFO:tensorflow:Calling checkpoint listeners after saving checkpoint 1180...\n",
            "INFO:tensorflow:Loss for final step: 0.5347393.\n",
            "INFO:tensorflow:Calling model_fn.\n",
            "WARNING:tensorflow:Layer linear/linear_model is casting an input tensor from dtype float64 to the layer's dtype of float32, which is new behavior in TensorFlow 2.  The layer has dtype float32 because it's dtype defaults to floatx.\n",
            "\n",
            "If you intended to run this layer in float32, you can safely ignore this warning. If in doubt, this warning is likely only an issue if you are porting a TensorFlow 1.X model to TensorFlow 2.\n",
            "\n",
            "To change all layers to have dtype float64 by default, call `tf.keras.backend.set_floatx('float64')`. To change just this layer, pass dtype='float64' to the layer constructor. If you are the author of this layer, you can disable autocasting by passing autocast=False to the base Layer constructor.\n",
            "\n",
            "INFO:tensorflow:Done calling model_fn.\n",
            "INFO:tensorflow:Starting evaluation at 2020-06-07T21:06:22Z\n",
            "INFO:tensorflow:Graph was finalized.\n",
            "INFO:tensorflow:Restoring parameters from /tmp/tmp9hw_71qk/model.ckpt-1180\n",
            "INFO:tensorflow:Running local_init_op.\n",
            "INFO:tensorflow:Done running local_init_op.\n",
            "INFO:tensorflow:Inference Time : 0.77170s\n",
            "INFO:tensorflow:Finished evaluation at 2020-06-07-21:06:23\n",
            "INFO:tensorflow:Saving dict for global step 1180: accuracy = 0.90909094, accuracy_baseline = 0.90909094, auc = 0.8111496, auc_precision_recall = 0.31992656, average_loss = 0.2601612, global_step = 1180, label/mean = 0.09090909, loss = 0.25211832, precision = 0.0, prediction/mean = 0.09395459, recall = 0.0\n",
            "INFO:tensorflow:Saving 'checkpoint_path' summary for global step 1180: /tmp/tmp9hw_71qk/model.ckpt-1180\n",
            "accuracy                   0.909091\n",
            "accuracy_baseline          0.909091\n",
            "auc                        0.811150\n",
            "auc_precision_recall       0.319927\n",
            "average_loss               0.260161\n",
            "label/mean                 0.090909\n",
            "loss                       0.252118\n",
            "precision                  0.000000\n",
            "prediction/mean            0.093955\n",
            "recall                     0.000000\n",
            "global_step             1180.000000\n",
            "dtype: float64\n"
          ],
          "name": "stdout"
        }
      ]
    },
    {
      "cell_type": "code",
      "metadata": {
        "id": "_U3Cc3wZ8Hfd",
        "colab_type": "code",
        "colab": {
          "base_uri": "https://localhost:8080/",
          "height": 1000
        },
        "outputId": "43cd2eb2-db03-477b-e8fb-28eb95c46d29"
      },
      "source": [
        "BoostedTreesClassifier = tf.estimator.BoostedTreesClassifier(feature_columns,n_batches_per_layer=1)\n",
        "BoostedTreesClassifier.train(training_data, max_steps=100)\n",
        "BoostedTreesClassifier_result = BoostedTreesClassifier.evaluate(validation_data)\n",
        "print(pd.Series(BoostedTreesClassifier_result))"
      ],
      "execution_count": 147,
      "outputs": [
        {
          "output_type": "stream",
          "text": [
            "INFO:tensorflow:Using default config.\n",
            "WARNING:tensorflow:Using temporary folder as model directory: /tmp/tmps0j_0wsl\n",
            "INFO:tensorflow:Using config: {'_model_dir': '/tmp/tmps0j_0wsl', '_tf_random_seed': None, '_save_summary_steps': 100, '_save_checkpoints_steps': None, '_save_checkpoints_secs': 600, '_session_config': allow_soft_placement: true\n",
            "graph_options {\n",
            "  rewrite_options {\n",
            "    meta_optimizer_iterations: ONE\n",
            "  }\n",
            "}\n",
            ", '_keep_checkpoint_max': 5, '_keep_checkpoint_every_n_hours': 10000, '_log_step_count_steps': 100, '_train_distribute': None, '_device_fn': None, '_protocol': None, '_eval_distribute': None, '_experimental_distribute': None, '_experimental_max_worker_delay_secs': None, '_session_creation_timeout_secs': 7200, '_service': None, '_cluster_spec': ClusterSpec({}), '_task_type': 'worker', '_task_id': 0, '_global_id_in_cluster': 0, '_master': '', '_evaluation_master': '', '_is_chief': True, '_num_ps_replicas': 0, '_num_worker_replicas': 1}\n",
            "INFO:tensorflow:Calling model_fn.\n",
            "INFO:tensorflow:Done calling model_fn.\n",
            "INFO:tensorflow:Create CheckpointSaverHook.\n",
            "WARNING:tensorflow:Issue encountered when serializing resources.\n",
            "Type is unsupported, or the types of the items don't match field type in CollectionDef. Note this is a warning and probably safe to ignore.\n",
            "'_Resource' object has no attribute 'name'\n",
            "INFO:tensorflow:Graph was finalized.\n",
            "INFO:tensorflow:Running local_init_op.\n",
            "INFO:tensorflow:Done running local_init_op.\n",
            "WARNING:tensorflow:Issue encountered when serializing resources.\n",
            "Type is unsupported, or the types of the items don't match field type in CollectionDef. Note this is a warning and probably safe to ignore.\n",
            "'_Resource' object has no attribute 'name'\n",
            "INFO:tensorflow:Calling checkpoint listeners before saving checkpoint 0...\n",
            "INFO:tensorflow:Saving checkpoints for 0 into /tmp/tmps0j_0wsl/model.ckpt.\n",
            "WARNING:tensorflow:Issue encountered when serializing resources.\n",
            "Type is unsupported, or the types of the items don't match field type in CollectionDef. Note this is a warning and probably safe to ignore.\n",
            "'_Resource' object has no attribute 'name'\n",
            "INFO:tensorflow:Calling checkpoint listeners after saving checkpoint 0...\n",
            "INFO:tensorflow:loss = 0.6931472, step = 0\n",
            "WARNING:tensorflow:It seems that global step (tf.train.get_global_step) has not been increased. Current value (could be stable): 0 vs previous value: 0. You could increase the global step by passing tf.train.get_global_step() to Optimizer.apply_gradients or Optimizer.minimize.\n",
            "INFO:tensorflow:global_step/sec: 194.607\n",
            "INFO:tensorflow:loss = 1145416700.0, step = 99 (0.517 sec)\n",
            "INFO:tensorflow:Calling checkpoint listeners before saving checkpoint 100...\n",
            "INFO:tensorflow:Saving checkpoints for 100 into /tmp/tmps0j_0wsl/model.ckpt.\n",
            "WARNING:tensorflow:Issue encountered when serializing resources.\n",
            "Type is unsupported, or the types of the items don't match field type in CollectionDef. Note this is a warning and probably safe to ignore.\n",
            "'_Resource' object has no attribute 'name'\n",
            "INFO:tensorflow:Calling checkpoint listeners after saving checkpoint 100...\n",
            "INFO:tensorflow:Loss for final step: 1145416700.0.\n",
            "INFO:tensorflow:Calling model_fn.\n",
            "WARNING:tensorflow:Trapezoidal rule is known to produce incorrect PR-AUCs; please switch to \"careful_interpolation\" instead.\n",
            "WARNING:tensorflow:Trapezoidal rule is known to produce incorrect PR-AUCs; please switch to \"careful_interpolation\" instead.\n",
            "INFO:tensorflow:Done calling model_fn.\n",
            "INFO:tensorflow:Starting evaluation at 2020-06-07T21:06:25Z\n",
            "INFO:tensorflow:Graph was finalized.\n",
            "INFO:tensorflow:Restoring parameters from /tmp/tmps0j_0wsl/model.ckpt-100\n",
            "INFO:tensorflow:Running local_init_op.\n",
            "INFO:tensorflow:Done running local_init_op.\n",
            "INFO:tensorflow:Inference Time : 0.64012s\n",
            "INFO:tensorflow:Finished evaluation at 2020-06-07-21:06:26\n",
            "INFO:tensorflow:Saving dict for global step 100: accuracy = 0.83253586, accuracy_baseline = 0.9090909, auc = 0.47711217, auc_precision_recall = 0.19949308, average_loss = 12921643000.0, global_step = 100, label/mean = 0.09090909, loss = 14988010000.0, precision = 0.18, prediction/mean = 0.12680405, recall = 0.23684211\n",
            "WARNING:tensorflow:Issue encountered when serializing resources.\n",
            "Type is unsupported, or the types of the items don't match field type in CollectionDef. Note this is a warning and probably safe to ignore.\n",
            "'_Resource' object has no attribute 'name'\n",
            "INFO:tensorflow:Saving 'checkpoint_path' summary for global step 100: /tmp/tmps0j_0wsl/model.ckpt-100\n",
            "accuracy                8.325359e-01\n",
            "accuracy_baseline       9.090909e-01\n",
            "auc                     4.771122e-01\n",
            "auc_precision_recall    1.994931e-01\n",
            "average_loss            1.292164e+10\n",
            "label/mean              9.090909e-02\n",
            "loss                    1.498801e+10\n",
            "precision               1.800000e-01\n",
            "prediction/mean         1.268041e-01\n",
            "recall                  2.368421e-01\n",
            "global_step             1.000000e+02\n",
            "dtype: float64\n"
          ],
          "name": "stdout"
        }
      ]
    },
    {
      "cell_type": "code",
      "metadata": {
        "id": "Z7FEXoBXjAfV",
        "colab_type": "code",
        "colab": {}
      },
      "source": [
        ""
      ],
      "execution_count": 0,
      "outputs": []
    }
  ]
}